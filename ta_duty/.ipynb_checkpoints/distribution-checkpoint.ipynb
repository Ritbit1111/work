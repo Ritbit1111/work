{
 "cells": [
  {
   "cell_type": "raw",
   "metadata": {
    "scrolled": true
   },
   "source": [
    "import numpy as np\n",
    "import pandas as pd\n",
    "\n",
    "from bokeh.models import Slider\n",
    "from bokeh.models.widgets import Button, TextInput\n",
    "from bokeh.layouts import row, column, gridplot\n",
    "from bokeh.plotting import Figure, output_notebook, show, ColumnDataSource\n",
    "\n",
    "output_notebook()\n",
    "\n",
    "def get_normal(mu = 0, sigma = 1, k = 1000):\n",
    "    #np.random.seed(2)\n",
    "    s = np.random.normal(mu, sigma, k)\n",
    "    hist, edges = np.histogram(s, density=True, bins=1000)\n",
    "    left_edges = edges[:-1]\n",
    "    right_edges = edges[1:]\n",
    "    return dict(hist = hist, left_edges = left_edges, right_edges = right_edges)\n",
    "\n",
    "def get_weibull(a , lmbda = 1,  k = 1000):\n",
    "   #np.random.seed(2)\n",
    "    s = np.random.weibull(a, k)\n",
    "    hist, edges = np.histogram(lmbda*s, density=True, bins=2500)\n",
    "    left_edges = edges[:-1]\n",
    "    right_edges = edges[1:]\n",
    "    return dict(hist = hist, left_edges = left_edges, right_edges = right_edges)\n",
    "\n",
    "def get_exponential(scale , k = 1000):\n",
    "   #np.random.seed(2)\n",
    "    s = np.random.exponential(scale , k)\n",
    "    hist, edges = np.histogram(s, density=True, bins=1000)\n",
    "    left_edges = edges[:-1]\n",
    "    right_edges = edges[1:]\n",
    "    return dict(hist = hist, left_edges = left_edges, right_edges = right_edges)\n",
    "\n",
    "def get_lognormal(mu = 1, sigma=1 , k = 1000):\n",
    "   #np.random.seed(2)\n",
    "    s = np.random.lognormal(mu, sigma , k)\n",
    "    #np.log(s) will be normally distributed\n",
    "    hist, edges = np.histogram(s, density=True, bins=2500)\n",
    "    left_edges = edges[:-1]\n",
    "    right_edges = edges[1:]\n",
    "    return dict(hist = hist, left_edges = left_edges, right_edges = right_edges)\n",
    "\n",
    "def modify_doc(doc):\n",
    "    source_normal = ColumnDataSource(data = get_normal(0,1,10000))\n",
    "    plot_normal = Figure(plot_width = 450, plot_height = 450, x_range = (-6,6), title = 'Normal')\n",
    "    plot_normal.quad(top='hist', bottom=0, left='left_edges', right='right_edges', source= source_normal, fill_color=\"navy\")\n",
    "    \n",
    "    def update_plot_normal(attrname, old , new):\n",
    "        source_normal.data = get_normal(mu_slider.value, sigma_slider.value, 10000)\n",
    "    \n",
    "    mu_slider = Slider(start = -5, end = 5, value = 0, step = 0.2, title = 'Mean')\n",
    "    mu_slider.on_change('value', update_plot_normal)\n",
    "    \n",
    "    sigma_slider = Slider(start = 0.1, end = 5, value = 1, step = 0.2, title = 'Std_Dev')\n",
    "    sigma_slider.on_change('value', update_plot_normal)\n",
    "    \n",
    "    dp_normal = 10000\n",
    "    def set_datapoints_normal(attr, old, new):\n",
    "        global dp_normal\n",
    "        dp_normal = new\n",
    "        #print (\"setting download : {}\".format(dp_normal))\n",
    "\n",
    "        \n",
    "    text_box = TextInput(value = '10000', title = 'Data Points', width =100)\n",
    "    text_box.on_change('value', set_datapoints_normal)\n",
    "    \n",
    "    def download_normal():\n",
    "        global dp_normal\n",
    "        #print (\"Inside download : {}\".format(int (dp_normal)))\n",
    "        data = np.random.normal(mu_slider.value, sigma_slider.value, int(dp_normal))\n",
    "        df = pd.DataFrame({'Values' : list(data)})\n",
    "        df.to_csv('normal.csv')\n",
    "        \n",
    "    download_button = Button(label = 'Download data as csv', width = 100)\n",
    "    download_button.on_click(download_normal)\n",
    "    \n",
    "    \n",
    "    ##########################################################################################\n",
    "    \n",
    "    source_weibull = ColumnDataSource(data = get_weibull(1.5, 1, 10000))\n",
    "    plot_weibull = Figure(plot_width = 450, plot_height = 450, x_range = (0,6), title = 'Weibull')\n",
    "    plot_weibull.quad(top='hist', bottom=0, left='left_edges', right='right_edges', source= source_weibull, fill_color=\"navy\")\n",
    "    \n",
    "    def update_plot_weibull(attrname, old , new):\n",
    "        source_weibull.data = get_weibull(shape_slider.value,lambda_slider.value,100000)\n",
    "    \n",
    "    shape_slider = Slider(start = 0.4, end = 5, value = 1.5, step = 0.1, title = 'Shape a')\n",
    "    shape_slider.on_change('value', update_plot_weibull)\n",
    "    \n",
    "    lambda_slider = Slider(start = 0.5, end = 3, value = 1, step = 0.5, title = 'Lambda')\n",
    "    lambda_slider.on_change('value', update_plot_weibull)\n",
    "    \n",
    "    ##########################################################################################\n",
    "\n",
    "    ##########################################################################################\n",
    "    \n",
    "    source_lognormal = ColumnDataSource(data = get_lognormal(0.9, 0.16, 10000))\n",
    "    plot_lognormal = Figure(plot_width = 450, plot_height = 450, title = 'Lognormal', y_range=(0,2), x_range = (0,10))\n",
    "    plot_lognormal.quad(top='hist', bottom=0, left='left_edges', right='right_edges', source= source_lognormal, fill_color=\"navy\")\n",
    "    \n",
    "    def update_plot_lognormal(attrname, old , new):\n",
    "        source_lognormal.data = get_lognormal(mean_slider_lognormal.value, sigma_slider_lognormal.value,100000)\n",
    "    \n",
    "    mean_slider_lognormal = Slider(start = 0, end = 5, value =0.9, step = 0.1, title = 'mean')\n",
    "    mean_slider_lognormal.on_change('value', update_plot_lognormal)\n",
    "    \n",
    "    sigma_slider_lognormal = Slider(start = 0.01, end = 1, value = 0.16, step = 0.01, title = 'Std_dev')\n",
    "    sigma_slider_lognormal.on_change('value', update_plot_lognormal)\n",
    "    \n",
    "    ##########################################################################################\n",
    "##########################################################################################\n",
    "    \n",
    "    source_exponential = ColumnDataSource(data = get_exponential(3, 1000))\n",
    "    plot_exponential = Figure(plot_width = 450, plot_height = 450, title = 'Exponential', x_range=(0,50), y_range =(0,1) )\n",
    "    plot_exponential.quad(top='hist', bottom=0, left='left_edges', right='right_edges', source= source_exponential, fill_color=\"green\")\n",
    "    \n",
    "    def update_plot_exponential(attrname, old , new):\n",
    "        source_exponential.data = get_exponential(scale_slider_exponential.value, 10000)\n",
    "    \n",
    "    scale_slider_exponential = Slider(start = 0.1, end = 10, value = 3, step = 0.1, title = 'Scale')\n",
    "    scale_slider_exponential.on_change('value', update_plot_exponential)\n",
    "    \n",
    "    ##########################################################################################\n",
    "\n",
    "    #layout = row(plot1, column(mu_slider, sigma_slider), row(plot2, column(shape_slider, lambda_slider)))\n",
    "    layout = gridplot([[plot_normal, column(mu_slider, sigma_slider, gridplot([[text_box, ], [download_button, ]]))],[plot_weibull, column(shape_slider, lambda_slider)], [plot_lognormal, column(mean_slider_lognormal, sigma_slider_lognormal)], [plot_exponential, column(scale_slider_exponential)]])\n",
    "    doc.add_root(layout)\n",
    "\n",
    "show(modify_doc)\n"
   ]
  },
  {
   "cell_type": "code",
   "execution_count": 5,
   "metadata": {},
   "outputs": [
    {
     "name": "stdout",
     "output_type": "stream",
     "text": [
      "s\n"
     ]
    }
   ],
   "source": [
    "print (\"s\")"
   ]
  },
  {
   "cell_type": "code",
   "execution_count": 6,
   "metadata": {},
   "outputs": [
    {
     "name": "stdout",
     "output_type": "stream",
     "text": [
      "Ram\n"
     ]
    }
   ],
   "source": [
    "print (\"Ram\")"
   ]
  }
 ],
 "metadata": {
  "kernelspec": {
   "display_name": "Python 3",
   "language": "python",
   "name": "python3"
  },
  "language_info": {
   "codemirror_mode": {
    "name": "ipython",
    "version": 3
   },
   "file_extension": ".py",
   "mimetype": "text/x-python",
   "name": "python",
   "nbconvert_exporter": "python",
   "pygments_lexer": "ipython3",
   "version": "3.6.8"
  }
 },
 "nbformat": 4,
 "nbformat_minor": 2
}
