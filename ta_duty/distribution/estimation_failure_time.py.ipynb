{
 "cells": [
  {
   "cell_type": "markdown",
   "metadata": {
    "slideshow": {
     "slide_type": "slide"
    }
   },
   "source": [
    "<center><h1> Number of failures from given sample</h1></center> \n",
    "\n",
    "## Problem Statement :\n",
    "    \n",
    "   <p1> Assuming the failure data of a component follows Weibull (a = 2, lambda = 10)</p1>\n",
    "    \n",
    "   <p1>Given the sample size and the number of failure, output the failure times of all the components</p1>"
   ]
  },
  {
   "cell_type": "code",
   "execution_count": 236,
   "metadata": {
    "slideshow": {
     "slide_type": "skip"
    }
   },
   "outputs": [],
   "source": [
    "import pandas as pd\n",
    "import numpy as np"
   ]
  },
  {
   "cell_type": "markdown",
   "metadata": {
    "slideshow": {
     "slide_type": "slide"
    }
   },
   "source": [
    "<center><h2> Input from user the sample size and failure size</h2></center>"
   ]
  },
  {
   "cell_type": "code",
   "execution_count": 276,
   "metadata": {
    "slideshow": {
     "slide_type": "subslide"
    }
   },
   "outputs": [
    {
     "name": "stdout",
     "output_type": "stream",
     "text": [
      "Enter the number of samples under test : 25\n",
      "Enter the number of samples that failed : 12\n"
     ]
    }
   ],
   "source": [
    "samp_under_test = int (input(\"Enter the number of samples under test : \"))\n",
    "\n",
    "samp_failed = int (input(\"Enter the number of samples that failed : \")) \n",
    "while samp_failed>samp_under_test:\n",
    "    print (\"Please enter the failing amount less or equal to the given amount \")\n",
    "    samp_failed = int (input(\"Enter the number of samples that failed : \"))"
   ]
  },
  {
   "cell_type": "markdown",
   "metadata": {
    "slideshow": {
     "slide_type": "slide"
    }
   },
   "source": [
    "<center><h2> Using Weibull distribution </h2></center>"
   ]
  },
  {
   "cell_type": "code",
   "execution_count": 320,
   "metadata": {
    "slideshow": {
     "slide_type": "subslide"
    }
   },
   "outputs": [
    {
     "data": {
      "text/plain": [
       "array([13, 21,  6,  3,  5,  6, 15,  5,  8, 18,  3,  4,  7,  8,  7, 16,  6,\n",
       "        3, 12,  3,  8,  4,  2,  4,  8])"
      ]
     },
     "execution_count": 320,
     "metadata": {},
     "output_type": "execute_result"
    }
   ],
   "source": [
    "failure_data = 10*np.random.weibull(2, samp_under_test)\n",
    "failure_data = failure_data.astype(int)"
   ]
  },
  {
   "cell_type": "markdown",
   "metadata": {
    "slideshow": {
     "slide_type": "slide"
    }
   },
   "source": [
    "<center><h2> Creating a hashmap to store the sample number and its time of failure</h2></center>"
   ]
  },
  {
   "cell_type": "code",
   "execution_count": 335,
   "metadata": {
    "slideshow": {
     "slide_type": "subslide"
    }
   },
   "outputs": [
    {
     "data": {
      "text/plain": [
       "{15: [0, 11],\n",
       " 9: [1, 2, 9, 15],\n",
       " 3: 3,\n",
       " 6: [4, 14, 20, 22],\n",
       " 11: [5, 6, 13, 17],\n",
       " 2: [7, 18],\n",
       " 7: [8, 16],\n",
       " 4: [10, 21, 24],\n",
       " 8: 12,\n",
       " 1: 19,\n",
       " 14: 23}"
      ]
     },
     "execution_count": 335,
     "metadata": {},
     "output_type": "execute_result"
    }
   ],
   "source": [
    "hashmap = {}\n",
    "for i,data in enumerate(failure_data):\n",
    "    index = hashmap.get(data)\n",
    "    if index!=None:\n",
    "        hashmap.update({data : index + [i] if type(index)==list else [index,i]})\n",
    "    else :\n",
    "        hashmap.update({data:i})\n",
    "hashmap"
   ]
  },
  {
   "cell_type": "markdown",
   "metadata": {
    "slideshow": {
     "slide_type": "slide"
    }
   },
   "source": [
    "<center><h2> Sorting the failure time and slicing the first n components that failed</h2></center>"
   ]
  },
  {
   "cell_type": "code",
   "execution_count": 336,
   "metadata": {
    "slideshow": {
     "slide_type": "subslide"
    }
   },
   "outputs": [
    {
     "data": {
      "text/plain": [
       "array([1, 2, 2, 3, 4, 4, 4, 6, 6, 6, 6, 7])"
      ]
     },
     "execution_count": 336,
     "metadata": {},
     "output_type": "execute_result"
    }
   ],
   "source": [
    "sorted_failure_data = np.sort(failure_data)\n",
    "failure_times = sorted_failure_data[0:samp_failed]\n",
    "failure_times"
   ]
  },
  {
   "cell_type": "markdown",
   "metadata": {
    "slideshow": {
     "slide_type": "slide"
    }
   },
   "source": [
    "<center><h2> Dictionary creation : {sample_number : failure_time} </h2></center>"
   ]
  },
  {
   "cell_type": "code",
   "execution_count": 337,
   "metadata": {
    "slideshow": {
     "slide_type": "subslide"
    }
   },
   "outputs": [
    {
     "data": {
      "text/plain": [
       "{19: 1,\n",
       " 7: 2,\n",
       " 18: 2,\n",
       " 3: 3,\n",
       " 10: 4,\n",
       " 21: 4,\n",
       " 24: 4,\n",
       " 4: 6,\n",
       " 14: 6,\n",
       " 20: 6,\n",
       " 22: 6,\n",
       " 8: 7}"
      ]
     },
     "execution_count": 337,
     "metadata": {},
     "output_type": "execute_result"
    }
   ],
   "source": [
    "return_dict = {}\n",
    "for i in failure_times:\n",
    "    sample_number_list = hashmap.get(i)\n",
    "    if (type(sample_number_list)==list):\n",
    "        sample_number = sample_number_list[0]\n",
    "        if (len(sample_number_list)==2):\n",
    "            hashmap.update({i : sample_number_list[1]})\n",
    "        else:\n",
    "            hashmap.update({i:sample_number_list[1:]})\n",
    "        return_dict.update({sample_number:i})\n",
    "    else :\n",
    "        return_dict.update({sample_number_list:i})\n",
    "        \n",
    "return_dict"
   ]
  },
  {
   "cell_type": "markdown",
   "metadata": {
    "slideshow": {
     "slide_type": "slide"
    }
   },
   "source": [
    "<center><h2> Result </h2></center>"
   ]
  },
  {
   "cell_type": "code",
   "execution_count": 338,
   "metadata": {
    "slideshow": {
     "slide_type": "subslide"
    }
   },
   "outputs": [
    {
     "name": "stdout",
     "output_type": "stream",
     "text": [
      "Sample number 19 failed at time : 1 \n",
      "Sample number 7 failed at time : 2 \n",
      "Sample number 18 failed at time : 2 \n",
      "Sample number 3 failed at time : 3 \n",
      "Sample number 10 failed at time : 4 \n",
      "Sample number 21 failed at time : 4 \n",
      "Sample number 24 failed at time : 4 \n",
      "Sample number 4 failed at time : 6 \n",
      "Sample number 14 failed at time : 6 \n",
      "Sample number 20 failed at time : 6 \n",
      "Sample number 22 failed at time : 6 \n",
      "Sample number 8 failed at time : 7 \n"
     ]
    }
   ],
   "source": [
    "for key, value in return_dict.items():\n",
    "     print (\"Sample number {} failed at time : {} \".format(key, value))"
   ]
  }
 ],
 "metadata": {
  "kernelspec": {
   "display_name": "Python 3",
   "language": "python",
   "name": "python3"
  },
  "language_info": {
   "codemirror_mode": {
    "name": "ipython",
    "version": 3
   },
   "file_extension": ".py",
   "mimetype": "text/x-python",
   "name": "python",
   "nbconvert_exporter": "python",
   "pygments_lexer": "ipython3",
   "version": "3.6.8"
  }
 },
 "nbformat": 4,
 "nbformat_minor": 2
}
