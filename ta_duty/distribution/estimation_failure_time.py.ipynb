{
 "cells": [
  {
   "cell_type": "markdown",
   "metadata": {
    "slideshow": {
     "slide_type": "slide"
    }
   },
   "source": [
    "<center><h1> Number of failures from given sample</h1></center> \n",
    "\n",
    "## Problem Statement :\n",
    "    \n",
    "   <p1> Assuming the failure data of a component follows Weibull (a = 2, lambda = 10)</p1>\n",
    "    \n",
    "   <p1>Given the sample size and the number of failure, output the failure times of all the components</p1>"
   ]
  },
  {
   "cell_type": "code",
   "execution_count": 4,
   "metadata": {
    "slideshow": {
     "slide_type": "skip"
    }
   },
   "outputs": [],
   "source": [
    "import pandas as pd\n",
    "import numpy as np"
   ]
  },
  {
   "cell_type": "markdown",
   "metadata": {
    "slideshow": {
     "slide_type": "slide"
    }
   },
   "source": [
    "<center><h2> Input from user the sample size and failure size</h2></center>"
   ]
  },
  {
   "cell_type": "code",
   "execution_count": 1,
   "metadata": {
    "slideshow": {
     "slide_type": "subslide"
    }
   },
   "outputs": [
    {
     "name": "stdout",
     "output_type": "stream",
     "text": [
      "Enter the number of samples under test : 15\n",
      "Enter the number of samples that failed : 5\n"
     ]
    }
   ],
   "source": [
    "samp_under_test = int (input(\"Enter the number of samples under test : \"))\n",
    "\n",
    "samp_failed = int (input(\"Enter the number of samples that failed : \")) \n",
    "while samp_failed>samp_under_test:\n",
    "    print (\"Please enter the failing amount less or equal to the given amount \")\n",
    "    samp_failed = int (input(\"Enter the number of samples that failed : \"))"
   ]
  },
  {
   "cell_type": "markdown",
   "metadata": {
    "slideshow": {
     "slide_type": "slide"
    }
   },
   "source": [
    "<center><h2> Using Weibull distribution </h2></center>"
   ]
  },
  {
   "cell_type": "code",
   "execution_count": 7,
   "metadata": {
    "slideshow": {
     "slide_type": "subslide"
    }
   },
   "outputs": [
    {
     "name": "stdout",
     "output_type": "stream",
     "text": [
      "[ 2  9  7  8  5 13  6 17  9  6  0  4 10  9  8]\n"
     ]
    }
   ],
   "source": [
    "failure_data = 10*np.random.weibull(2, samp_under_test)\n",
    "failure_data = failure_data.astype(int)\n",
    "print (failure_data)"
   ]
  },
  {
   "cell_type": "markdown",
   "metadata": {
    "slideshow": {
     "slide_type": "slide"
    }
   },
   "source": [
    "<center><h2> Creating a hashmap to store the sample number and its time of failure</h2></center>"
   ]
  },
  {
   "cell_type": "code",
   "execution_count": 8,
   "metadata": {
    "slideshow": {
     "slide_type": "subslide"
    }
   },
   "outputs": [
    {
     "data": {
      "text/plain": [
       "{2: 0,\n",
       " 9: [1, 8, 13],\n",
       " 7: 2,\n",
       " 8: [3, 14],\n",
       " 5: 4,\n",
       " 13: 5,\n",
       " 6: [6, 9],\n",
       " 17: 7,\n",
       " 0: 10,\n",
       " 4: 11,\n",
       " 10: 12}"
      ]
     },
     "execution_count": 8,
     "metadata": {},
     "output_type": "execute_result"
    }
   ],
   "source": [
    "hashmap = {}\n",
    "for i,data in enumerate(failure_data):\n",
    "    index = hashmap.get(data)\n",
    "    if index!=None:\n",
    "        hashmap.update({data : index + [i] if type(index)==list else [index,i]})\n",
    "    else :\n",
    "        hashmap.update({data:i})\n",
    "hashmap"
   ]
  },
  {
   "cell_type": "markdown",
   "metadata": {
    "slideshow": {
     "slide_type": "slide"
    }
   },
   "source": [
    "<center><h2> Sorting the failure time and slicing the first n components that failed</h2></center>"
   ]
  },
  {
   "cell_type": "code",
   "execution_count": 9,
   "metadata": {
    "slideshow": {
     "slide_type": "subslide"
    }
   },
   "outputs": [
    {
     "data": {
      "text/plain": [
       "array([0, 2, 4, 5, 6])"
      ]
     },
     "execution_count": 9,
     "metadata": {},
     "output_type": "execute_result"
    }
   ],
   "source": [
    "sorted_failure_data = np.sort(failure_data)\n",
    "failure_times = sorted_failure_data[0:samp_failed]\n",
    "failure_times"
   ]
  },
  {
   "cell_type": "markdown",
   "metadata": {
    "slideshow": {
     "slide_type": "slide"
    }
   },
   "source": [
    "<center><h2> Dictionary creation : {sample_number : failure_time} </h2></center>"
   ]
  },
  {
   "cell_type": "code",
   "execution_count": 10,
   "metadata": {
    "slideshow": {
     "slide_type": "subslide"
    }
   },
   "outputs": [
    {
     "data": {
      "text/plain": [
       "{10: 0, 0: 2, 11: 4, 4: 5, 6: 6}"
      ]
     },
     "execution_count": 10,
     "metadata": {},
     "output_type": "execute_result"
    }
   ],
   "source": [
    "return_dict = {}\n",
    "for i in failure_times:\n",
    "    sample_number_list = hashmap.get(i)\n",
    "    if (type(sample_number_list)==list):\n",
    "        sample_number = sample_number_list[0]\n",
    "        if (len(sample_number_list)==2):\n",
    "            hashmap.update({i : sample_number_list[1]})\n",
    "        else:\n",
    "            hashmap.update({i:sample_number_list[1:]})\n",
    "        return_dict.update({sample_number:i})\n",
    "    else :\n",
    "        return_dict.update({sample_number_list:i})\n",
    "        \n",
    "return_dict"
   ]
  },
  {
   "cell_type": "markdown",
   "metadata": {
    "slideshow": {
     "slide_type": "slide"
    }
   },
   "source": [
    "<center><h2> Result </h2></center>"
   ]
  },
  {
   "cell_type": "code",
   "execution_count": 12,
   "metadata": {
    "slideshow": {
     "slide_type": "subslide"
    }
   },
   "outputs": [
    {
     "name": "stdout",
     "output_type": "stream",
     "text": [
      "Sample number 10 failed at time : 0 \n",
      "Sample number 0 failed at time : 2 \n",
      "Sample number 11 failed at time : 4 \n",
      "Sample number 4 failed at time : 5 \n",
      "Sample number 6 failed at time : 6 \n"
     ]
    }
   ],
   "source": [
    "for key, value in return_dict.items():\n",
    "     print (\"Sample number {} failed at time : {} \".format(key, value))"
   ]
  }
 ],
 "metadata": {
  "kernelspec": {
   "display_name": "Python 3",
   "language": "python",
   "name": "python3"
  },
  "language_info": {
   "codemirror_mode": {
    "name": "ipython",
    "version": 3
   },
   "file_extension": ".py",
   "mimetype": "text/x-python",
   "name": "python",
   "nbconvert_exporter": "python",
   "pygments_lexer": "ipython3",
   "version": "3.6.8"
  }
 },
 "nbformat": 4,
 "nbformat_minor": 2
}
